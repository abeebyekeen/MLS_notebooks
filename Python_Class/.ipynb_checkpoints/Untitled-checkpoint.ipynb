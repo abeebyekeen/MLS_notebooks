{
 "cells": [
  {
   "cell_type": "code",
   "execution_count": 1,
   "metadata": {},
   "outputs": [
    {
     "name": "stdout",
     "output_type": "stream",
     "text": [
      "test\n"
     ]
    }
   ],
   "source": [
    "print(\"test\")"
   ]
  },
  {
   "cell_type": "code",
   "execution_count": null,
   "metadata": {},
   "outputs": [],
   "source": [
    "def get_AT(my_dna):\n",
    "    length = len(my_dna)\n",
    "    a_count = my_dna.count(\"A\")\n",
    "    t_count = my_dna.count(\"T\")\n",
    "    at_content = (a_count + t_count) / length\n",
    "    return at_content\n",
    "\n",
    "def complement(my_dna):\n",
    "    replacement1 = my_dna.replace(\"A\", \"t\")\n",
    "    replacement2 = replacement1.replace(\"T\", \"a\")\n",
    "    replacement3 = replacement2.replace(\"C\", \"g\")\n",
    "    replacement4 = replacement3.replace(\"G\", \"c\")\n",
    "    return replacement4.upper()"
   ]
  },
  {
   "cell_type": "code",
   "execution_count": null,
   "metadata": {},
   "outputs": [],
   "source": [
    "# Using OOP\n",
    "class DNARecord(object):\n",
    "    sequence = \"ACGTAGCTGACGATC\"\n",
    "    gene_name = \"ABC1\"\n",
    "    species_name = \"Drosophila melanogaster\"\n",
    "    \n",
    "    def complement(self):\n",
    "        replacement1 = self.sequence.replace(\"A\", \"t\")\n",
    "        replacement2 = replacement1.replace(\"T\", \"a\")\n",
    "        replacement3 = replacement2.replace(\"C\", \"g\")\n",
    "        replacement4 = replacement3.replace(\"G\", \"c\")\n",
    "        "
   ]
  },
  {
   "cell_type": "code",
   "execution_count": null,
   "metadata": {},
   "outputs": [],
   "source": []
  },
  {
   "cell_type": "code",
   "execution_count": null,
   "metadata": {},
   "outputs": [],
   "source": []
  },
  {
   "cell_type": "code",
   "execution_count": null,
   "metadata": {},
   "outputs": [],
   "source": []
  },
  {
   "cell_type": "code",
   "execution_count": null,
   "metadata": {},
   "outputs": [],
   "source": []
  },
  {
   "cell_type": "code",
   "execution_count": null,
   "metadata": {},
   "outputs": [],
   "source": []
  }
 ],
 "metadata": {
  "kernelspec": {
   "display_name": "Python 3",
   "language": "python",
   "name": "python3"
  },
  "language_info": {
   "codemirror_mode": {
    "name": "ipython",
    "version": 3
   },
   "file_extension": ".py",
   "mimetype": "text/x-python",
   "name": "python",
   "nbconvert_exporter": "python",
   "pygments_lexer": "ipython3",
   "version": "3.7.6"
  }
 },
 "nbformat": 4,
 "nbformat_minor": 4
}
