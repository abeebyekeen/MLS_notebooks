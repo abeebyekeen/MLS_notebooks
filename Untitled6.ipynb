{
 "cells": [
  {
   "cell_type": "code",
   "execution_count": 2,
   "metadata": {},
   "outputs": [
    {
     "data": {
      "image/png": "[encoded data removed]",
      "text/plain": [
       "<Figure size 432x288 with 1 Axes>"
      ]
     },
     "metadata": {
      "needs_background": "light"
     },
     "output_type": "display_data"
    }
   ],
   "source": [
    "import matplotlib.pyplot as plt\n",
    "import numpy as np\n",
    "import pandas as pd\n",
    "import scipy.stats as st\n",
    "%matplotlib inline\n",
    "\n",
    "# Load the data from the XY plot into lists for the X and Y values\n",
    "# time = [0, 1, 2, 3, 4, 5, 6, 7, 8, 9, 10]\n",
    "# rmsd = [0.2, 0.7, 0.9, 1.1, 1.3, 1.1, 1.7, 1.9, 2.1, 1.3, 2.5]\n",
    "\n",
    "# df = pd.read_csv(\"RMSData.csv\")\n",
    "\n",
    "# rmsd = df.DataFrame()\n",
    "\n",
    "order_p2 = []\n",
    "\n",
    "with open(\"RgData.dat\") as alldata:\n",
    "    alldata_lines = alldata.readlines()\n",
    "    for line in alldata_lines:\n",
    "        data_point = str(line).split(\"\\n\")\n",
    "#         print(float(data_point[0]))\n",
    "        order_p2.append(float(data_point[0]))\n",
    "#         order_p2.append(float(\"{:.4f}\".format(line[0])))\n",
    "\n",
    "# graphed = ['order_p1', 'order_p2']\n",
    "# plt.figure(figsize=(20, 9))\n",
    "\n",
    "plt.hist(order_p2, density=True, bins=105, label=\"Rg\", color='#F8C471', alpha=0.6)\n",
    "\n",
    "# order_p1\n",
    "# plt.hist(order_p1, bins=73)\n",
    "\n",
    "# Add labels to the X and Y axes\n",
    "plt.xlabel('RMSD (Å)')\n",
    "plt.ylabel('Count')\n",
    "\n",
    "# # Plot the pdf\n",
    "# mu, std = np.mean(order_p1), np.std(order_p1)\n",
    "# x = np.linspace(-5, 5, 100)\n",
    "# plt.plot(x, 1/(std * np.sqrt(2 * np.pi)) * np)\n",
    "\n",
    "# plt.style.use('ggplot')\n",
    "# Show the plot\n",
    "# plt.show()\n",
    "# mn, mx = plt.xlim()\n",
    "# plt.xlim(mn, mx)\n",
    "# kde_xs = np.linspace(min(order_p1), max(order_p1), 300)\n",
    "\n",
    "kde_xs = np.linspace(min(order_p2), max(order_p2), 300)\n",
    "kde = st.gaussian_kde(order_p2)\n",
    "plt.plot(kde_xs, kde.pdf(kde_xs), label=\"Rg.PDF\", color='b')\n",
    "plt.legend(loc=\"upper left\")\n",
    "plt.ylabel(\"Probability Density\")\n",
    "plt.xlabel(\"Data\");\n",
    "# plt.title(\"Histogram\");"
   ]
  }
 ],
 "metadata": {
  "kernelspec": {
   "display_name": "Python 3",
   "language": "python",
   "name": "python3"
  },
  "language_info": {
   "codemirror_mode": {
    "name": "ipython",
    "version": 3
   },
   "file_extension": ".py",
   "mimetype": "text/x-python",
   "name": "python",
   "nbconvert_exporter": "python",
   "pygments_lexer": "ipython3",
   "version": "3.7.6"
  }
 },
 "nbformat": 4,
 "nbformat_minor": 4
}
