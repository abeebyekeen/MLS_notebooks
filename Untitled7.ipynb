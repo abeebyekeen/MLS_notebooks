{
 "cells": [
  {
   "cell_type": "code",
   "execution_count": 5,
   "metadata": {},
   "outputs": [
    {
     "data": {
      "image/png": "[encoded data removed]",
      "text/plain": [
       "<Figure size 432x288 with 1 Axes>"
      ]
     },
     "metadata": {
      "needs_background": "light"
     },
     "output_type": "display_data"
    }
   ],
   "source": [
    "import matplotlib.pyplot as plt\n",
    "import numpy as np\n",
    "import pandas as pd\n",
    "import scipy.stats as st\n",
    "%matplotlib inline\n",
    "\n",
    "\n",
    "order_p2 = []\n",
    "\n",
    "with open(\"RgData.dat\") as alldata:\n",
    "    alldata_lines = alldata.readlines()\n",
    "    for line in alldata_lines:\n",
    "        data_point = str(line).split(\"\\n\")\n",
    "#         print(float(data_point[0]))\n",
    "        order_p2.append(float(data_point[0]))\n",
    "#         order_p2.append(float(\"{:.4f}\".format(line[0])))\n",
    "\n",
    "# graphed = ['order_p1', 'order_p2']\n",
    "# plt.figure(figsize=(20, 9))\n",
    "\n",
    "a = plt.hist(order_p2, density=True, bins=105, label=\"Rg\", color='#F8C471', alpha=0.6)\n",
    "\n",
    "ys = a[0]; xs = a[1]\n",
    "\n",
    "# The x-axis values are boundaries, starting with the lower bound of the first and\n",
    "# ending with the upper bound of the last.\n",
    "# So, length of the x-axis is > length of the y-axis by 1.\n",
    "\n",
    "# Get just the upper bounds\n",
    "pd.DataFrame({'x_upper':a[1][1:], 'y': a[0]}).to_csv('test20.dat', index=False, sep=\"\\t\")\n",
    "# Add labels to the X and Y axes\n",
    "# plt.xlabel('RMSD (Å)')\n",
    "# plt.ylabel('Count')\n",
    "\n",
    "kde_xs = np.linspace(min(order_p2), max(order_p2), 300)\n",
    "kde = st.gaussian_kde(order_p2)\n",
    "\n",
    "kde_ys=kde.pdf(kde_xs)\n",
    "# kdeys = a[0]; kdexs = a[1]\n",
    "\n",
    "pd.DataFrame({'x':kde_xs, 'y': kde_ys}).to_csv('kde20.dat', index=False, sep=\"\\t\")\n",
    "plt.plot(kde_xs, kde.pdf(kde_xs), label=\"Rg.PDF\", color='b')\n",
    "plt.legend()\n",
    "\n",
    "# Add labels to the X and Y axes\n",
    "plt.ylabel(\"Probability Density\")\n",
    "plt.xlabel(\"Data\");\n",
    "plt.title(\"Histogram\");"
   ]
  },
  {
   "cell_type": "code",
   "execution_count": 6,
   "metadata": {},
   "outputs": [
    {
     "name": "stdout",
     "output_type": "stream",
     "text": [
      "we can go\n"
     ]
    }
   ],
   "source": [
    "print(\"we can go\")"
   ]
  },
  {
   "cell_type": "code",
   "execution_count": 11,
   "metadata": {},
   "outputs": [
    {
     "name": "stdout",
     "output_type": "stream",
     "text": [
      "we can go\n",
      "+to anywhere we want\n"
     ]
    }
   ],
   "source": [
    "print(\"we can go\"\n",
    "      '\\n+to anywhere we want')"
   ]
  },
  {
   "cell_type": "code",
   "execution_count": 13,
   "metadata": {},
   "outputs": [
    {
     "name": "stdout",
     "output_type": "stream",
     "text": [
      "we can go        \n",
      "+to anywhere we want\n"
     ]
    }
   ],
   "source": [
    "print('we can go \\\n",
    "       \\n+to anywhere we want')"
   ]
  },
  {
   "cell_type": "code",
   "execution_count": 14,
   "metadata": {},
   "outputs": [
    {
     "name": "stdout",
     "output_type": "stream",
     "text": [
      "we can go        \n",
      "+to anywhere we want\n"
     ]
    }
   ],
   "source": [
    "print(f'we can go \\\n",
    "       \\n+to anywhere we want')"
   ]
  },
  {
   "cell_type": "code",
   "execution_count": 17,
   "metadata": {},
   "outputs": [
    {
     "name": "stdout",
     "output_type": "stream",
     "text": [
      "nay\n"
     ]
    }
   ],
   "source": [
    "if 2 < 2 : print(\"yay\")\n",
    "elif 2 > 1 : print(\"nay\")"
   ]
  }
 ],
 "metadata": {
  "kernelspec": {
   "display_name": "Python 3",
   "language": "python",
   "name": "python3"
  },
  "language_info": {
   "codemirror_mode": {
    "name": "ipython",
    "version": 3
   },
   "file_extension": ".py",
   "mimetype": "text/x-python",
   "name": "python",
   "nbconvert_exporter": "python",
   "pygments_lexer": "ipython3",
   "version": "3.7.6"
  }
 },
 "nbformat": 4,
 "nbformat_minor": 4
}
