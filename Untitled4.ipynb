{
 "cells": [
  {
   "cell_type": "code",
   "execution_count": 5,
   "metadata": {},
   "outputs": [
    {
     "data": {
      "image/png": "[encoded data removed]",
      "text/plain": [
       "<Figure size 432x288 with 1 Axes>"
      ]
     },
     "metadata": {
      "needs_background": "light"
     },
     "output_type": "display_data"
    }
   ],
   "source": [
    "import matplotlib.pyplot as plt\n",
    "import numpy as np\n",
    "import pandas as pd\n",
    "import scipy.stats as st\n",
    "%matplotlib inline\n",
    "\n",
    "order_p2 = []\n",
    "with open(\"RgData.dat\") as alldata:\n",
    "    alldata_lines = alldata.readlines()\n",
    "    for line in alldata_lines:\n",
    "        data_point = str(line).split(\"\\n\")\n",
    "#         print(float(data_point[0]))\n",
    "        order_p2.append(float(data_point[0]))\n",
    "#         order_p2.append(float(\"{:.4f}\".format(line[0])))\n",
    "# plt.hist(order_p2, density=True, bins=105, label=\"Rg\", color='#F8C471', alpha=0.9)\n",
    "\n",
    "plt.hist(order_p2, density=True, bins=105, label=\"Rg\")\n",
    "plt.plot(label=\"Rg\")\n",
    "\n",
    "# Assign plt.hist() to a value. The first element is the y, the second is the x.\n",
    "a=plt.hist(order_p2, density=True, bins=105)"
   ]
  }
 ],
 "metadata": {
  "kernelspec": {
   "display_name": "Python 3",
   "language": "python",
   "name": "python3"
  },
  "language_info": {
   "codemirror_mode": {
    "name": "ipython",
    "version": 3
   },
   "file_extension": ".py",
   "mimetype": "text/x-python",
   "name": "python",
   "nbconvert_exporter": "python",
   "pygments_lexer": "ipython3",
   "version": "3.7.6"
  }
 },
 "nbformat": 4,
 "nbformat_minor": 4
}
