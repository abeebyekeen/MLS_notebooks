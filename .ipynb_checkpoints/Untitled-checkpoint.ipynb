{
 "cells": [
  {
   "cell_type": "code",
   "execution_count": 13,
   "metadata": {},
   "outputs": [
    {
     "data": {
      "text/html": [
       "<div>\n",
       "<style scoped>\n",
       "    .dataframe tbody tr th:only-of-type {\n",
       "        vertical-align: middle;\n",
       "    }\n",
       "\n",
       "    .dataframe tbody tr th {\n",
       "        vertical-align: top;\n",
       "    }\n",
       "\n",
       "    .dataframe thead th {\n",
       "        text-align: right;\n",
       "    }\n",
       "</style>\n",
       "<table border=\"1\" class=\"dataframe\">\n",
       "  <thead>\n",
       "    <tr style=\"text-align: right;\">\n",
       "      <th></th>\n",
       "      <th>0.0000026</th>\n",
       "    </tr>\n",
       "  </thead>\n",
       "  <tbody>\n",
       "    <tr>\n",
       "      <th>0</th>\n",
       "      <td>0.162550</td>\n",
       "    </tr>\n",
       "    <tr>\n",
       "      <th>1</th>\n",
       "      <td>0.170164</td>\n",
       "    </tr>\n",
       "    <tr>\n",
       "      <th>2</th>\n",
       "      <td>0.177450</td>\n",
       "    </tr>\n",
       "    <tr>\n",
       "      <th>3</th>\n",
       "      <td>0.193358</td>\n",
       "    </tr>\n",
       "    <tr>\n",
       "      <th>4</th>\n",
       "      <td>0.187717</td>\n",
       "    </tr>\n",
       "    <tr>\n",
       "      <th>...</th>\n",
       "      <td>...</td>\n",
       "    </tr>\n",
       "    <tr>\n",
       "      <th>995</th>\n",
       "      <td>0.368951</td>\n",
       "    </tr>\n",
       "    <tr>\n",
       "      <th>996</th>\n",
       "      <td>0.369438</td>\n",
       "    </tr>\n",
       "    <tr>\n",
       "      <th>997</th>\n",
       "      <td>0.385430</td>\n",
       "    </tr>\n",
       "    <tr>\n",
       "      <th>998</th>\n",
       "      <td>0.363275</td>\n",
       "    </tr>\n",
       "    <tr>\n",
       "      <th>999</th>\n",
       "      <td>0.360394</td>\n",
       "    </tr>\n",
       "  </tbody>\n",
       "</table>\n",
       "<p>1000 rows × 1 columns</p>\n",
       "</div>"
      ],
      "text/plain": [
       "     0.0000026\n",
       "0     0.162550\n",
       "1     0.170164\n",
       "2     0.177450\n",
       "3     0.193358\n",
       "4     0.187717\n",
       "..         ...\n",
       "995   0.368951\n",
       "996   0.369438\n",
       "997   0.385430\n",
       "998   0.363275\n",
       "999   0.360394\n",
       "\n",
       "[1000 rows x 1 columns]"
      ]
     },
     "execution_count": 13,
     "metadata": {},
     "output_type": "execute_result"
    }
   ],
   "source": [
    "import matplotlib.pyplot as plt\n",
    "import numpy as np\n",
    "import pandas as pd\n",
    "from scipy.stats import gaussian_kde\n",
    "\n",
    "# Load the data from the XY plot into lists for the X and Y values\n",
    "# time = [0, 1, 2, 3, 4, 5, 6, 7, 8, 9, 10]\n",
    "# rmsd = [0.2, 0.7, 0.9, 1.1, 1.3, 1.1, 1.7, 1.9, 2.1, 1.3, 2.5]\n",
    "\n",
    "# df = pd.read_csv(\"RMSData.csv\")\n",
    "\n",
    "# rmsd = pd.DataFrame(df)\n",
    "\n",
    "rmsd\n",
    "\n",
    "# # Use the gaussian_kde function from scipy.stats to estimate the PDF of the data\n",
    "# density = gaussian_kde(rmsd)\n",
    "\n",
    "# # Generate a range of values for the X axis\n",
    "# xs = np.linspace(min(rmsd), max(rmsd))\n",
    "\n",
    "# # Plot the PDF\n",
    "# plt.plot(xs, density(xs))\n",
    "\n",
    "# # Add labels to the X and Y axes\n",
    "# plt.xlabel('RMSD (Å)')\n",
    "# plt.ylabel('Probability density')\n",
    "\n",
    "# # Show the plot\n",
    "# plt.show()"
   ]
  },
  {
   "cell_type": "code",
   "execution_count": 21,
   "metadata": {
    "scrolled": true
   },
   "outputs": [
    {
     "data": {
      "image/png": "[encoded data removed]",
      "text/plain": [
       "<Figure size 432x288 with 1 Axes>"
      ]
     },
     "metadata": {
      "needs_background": "light"
     },
     "output_type": "display_data"
    }
   ],
   "source": [
    "import matplotlib.pyplot as plt\n",
    "import numpy as np\n",
    "import pandas as pd\n",
    "from scipy.stats import gaussian_kde\n",
    "\n",
    "# Load the data from the XY plot into lists for the X and Y values\n",
    "# time = [0, 1, 2, 3, 4, 5, 6, 7, 8, 9, 10]\n",
    "# rmsd = [0.2, 0.7, 0.9, 1.1, 1.3, 1.1, 1.7, 1.9, 2.1, 1.3, 2.5]\n",
    "\n",
    "# df = pd.read_csv(\"RMSData.csv\")\n",
    "\n",
    "# rmsd = df.DataFrame()\n",
    "\n",
    "order_p1 = []\n",
    "with open(\"RMSData.csv\") as alldata:\n",
    "    alldata_lines = alldata.readlines()\n",
    "    for line in alldata_lines:\n",
    "        data_point = str(line).split(\"\\n\")\n",
    "        order_p1.append(float(data_point[0]))\n",
    "# Use the gaussian_kde function from scipy.stats to estimate the PDF of the data\n",
    "density = gaussian_kde(order_p1)\n",
    "\n",
    "# Generate a range of values for the X axis\n",
    "xs = np.linspace(min(order_p1), max(order_p1))\n",
    "\n",
    "# Plot the PDF\n",
    "plt.plot(xs, density(xs))\n",
    "\n",
    "# Add labels to the X and Y axes\n",
    "plt.xlabel('RMSD (Å)')\n",
    "plt.ylabel('Probability density')\n",
    "\n",
    "# Show the plot\n",
    "plt.show()"
   ]
  },
  {
   "cell_type": "code",
   "execution_count": 22,
   "metadata": {},
   "outputs": [
    {
     "data": {
      "image/png": "[encoded data removed]",
      "text/plain": [
       "<Figure size 432x288 with 1 Axes>"
      ]
     },
     "metadata": {
      "needs_background": "light"
     },
     "output_type": "display_data"
    }
   ],
   "source": [
    "import matplotlib.pyplot as plt\n",
    "import numpy as np\n",
    "import pandas as pd\n",
    "from scipy.stats import gaussian_kde\n",
    "\n",
    "# Load the data from the XY plot into lists for the X and Y values\n",
    "# time = [0, 1, 2, 3, 4, 5, 6, 7, 8, 9, 10]\n",
    "# rmsd = [0.2, 0.7, 0.9, 1.1, 1.3, 1.1, 1.7, 1.9, 2.1, 1.3, 2.5]\n",
    "\n",
    "# df = pd.read_csv(\"RMSData.csv\")\n",
    "\n",
    "# rmsd = df.DataFrame()\n",
    "\n",
    "order_p1 = []\n",
    "with open(\"RMSData.csv\") as alldata:\n",
    "    alldata_lines = alldata.readlines()\n",
    "    for line in alldata_lines:\n",
    "        data_point = str(line).split(\"\\n\")\n",
    "        order_p1.append(float(data_point[0]))\n",
    "# # Use the gaussian_kde function from scipy.stats to estimate the PDF of the data\n",
    "# density = gaussian_kde(order_p1)\n",
    "\n",
    "# # Generate a range of values for the X axis\n",
    "# xs = np.linspace(min(order_p1), max(order_p1))\n",
    "\n",
    "# # Plot the PDF\n",
    "# plt.plot(xs, density(xs))\n",
    "\n",
    "plt.hist(order_p1, bins=10)\n",
    "\n",
    "# Add labels to the X and Y axes\n",
    "plt.xlabel('RMSD (Å)')\n",
    "plt.ylabel('Count')\n",
    "\n",
    "# Show the plot\n",
    "plt.show()"
   ]
  }
 ],
 "metadata": {
  "kernelspec": {
   "display_name": "Python 3",
   "language": "python",
   "name": "python3"
  },
  "language_info": {
   "codemirror_mode": {
    "name": "ipython",
    "version": 3
   },
   "file_extension": ".py",
   "mimetype": "text/x-python",
   "name": "python",
   "nbconvert_exporter": "python",
   "pygments_lexer": "ipython3",
   "version": "3.7.6"
  }
 },
 "nbformat": 4,
 "nbformat_minor": 4
}
