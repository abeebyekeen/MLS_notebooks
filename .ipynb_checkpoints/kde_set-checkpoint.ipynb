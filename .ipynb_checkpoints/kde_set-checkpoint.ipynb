{
 "cells": [
  {
   "cell_type": "code",
   "execution_count": 1,
   "metadata": {},
   "outputs": [],
   "source": [
    "import matplotlib.pyplot as plt\n",
    "import numpy as np\n",
    "import pandas as pd\n",
    "import scipy.stats as st\n",
    "%matplotlib inline"
   ]
  },
  {
   "cell_type": "code",
   "execution_count": 2,
   "metadata": {},
   "outputs": [],
   "source": [
    "order_p2 = []\n",
    "with open(\"RgData.dat\") as alldata:\n",
    "    alldata_lines = alldata.readlines()\n",
    "    for line in alldata_lines:\n",
    "        data_point = str(line).split(\"\\n\")\n",
    "#         print(float(data_point[0]))\n",
    "        order_p2.append(float(data_point[0]))\n",
    "#         order_p2.append(float(\"{:.4f}\".format(line[0])))"
   ]
  },
  {
   "cell_type": "code",
   "execution_count": 6,
   "metadata": {},
   "outputs": [
    {
     "data": {
      "image/png": "[encoded data removed]",
      "text/plain": [
       "<Figure size 432x288 with 1 Axes>"
      ]
     },
     "metadata": {
      "needs_background": "light"
     },
     "output_type": "display_data"
    }
   ],
   "source": [
    "plt.hist(order_p2, density=True, bins=105, label=\"Rg\", color='#F8C471', alpha=0.6)\n",
    "# Add labels to the X and Y axes\n",
    "plt.xlabel('RMSD (Å)')\n",
    "plt.ylabel('Count')\n",
    "kde_xs = np.linspace(min(order_p2), max(order_p2), 300)\n",
    "kde = st.gaussian_kde(order_p2)\n",
    "plt.plot(kde_xs, kde.pdf(kde_xs), label=\"Rg.PDF\", color='b')\n",
    "plt.legend(loc=\"upper left\")\n",
    "plt.ylabel(\"Density\")\n",
    "plt.xlabel(\"Data\");\n",
    "# plt.title(\"Histogram\");"
   ]
  },
  {
   "cell_type": "code",
   "execution_count": null,
   "metadata": {},
   "outputs": [],
   "source": [
    "plt.hist(order_p2, density=True, bins=105, label=\"Rg\", color='#F8C471', alpha=0.6)\n",
    "\n",
    "# Assign plt.hist() to a value. The first elemnt is the ys, the second is the xs.\n",
    "a=plt.hist(order_p2, density=True, bins=105)\n",
    "\n",
    "ys = a[0]; xs = a[1]\n",
    "\n",
    "# The x-axis values are boundaries, starting with the lower bound of the first and\n",
    "# ending with the upper bound of the last.\n",
    "# So, length of the x-axis is > length of the y-axis by 1.\n",
    "# Add labels to the X and Y axes\n",
    "\n",
    "\n",
    "# Get just the upper bounds\n",
    "pd.DataFrame({'x_upper':a[1][1:], 'y': a[0]}).to_csv('test10.csv', index=False)\n",
    "\n",
    "plt.xlabel('RMSD (Å)')\n",
    "plt.ylabel('Count')\n",
    "kde_xs = np.linspace(min(order_p2), max(order_p2), 300)\n",
    "kde = st.gaussian_kde(order_p2)\n",
    "kde_ys=kde.pdf(kde_xs)\n",
    "# kdeys = a[0]; kdexs = a[1]\n",
    "\n",
    "pd.DataFrame({'x':kde_xs, 'y': kde_ys}).to_csv('kde19.csv', index=False)\n",
    "\n",
    "# plt.plot(kde_xs, kde.pdf(kde_xs), label=\"Rg.PDF\", color='b')\n",
    "plt.plot(kde_xs, kde.pdf(kde_xs), label=\"Rg.PDF\")\n",
    "# plt.legend(loc=\"upper left\")\n",
    "plt.legend()\n",
    "plt.ylabel(\"Density\")\n",
    "plt.xlabel(\"Data\")\n",
    "plt.title(\"Histogram\");"
   ]
  }
 ],
 "metadata": {
  "kernelspec": {
   "display_name": "Python 3",
   "language": "python",
   "name": "python3"
  },
  "language_info": {
   "codemirror_mode": {
    "name": "ipython",
    "version": 3
   },
   "file_extension": ".py",
   "mimetype": "text/x-python",
   "name": "python",
   "nbconvert_exporter": "python",
   "pygments_lexer": "ipython3",
   "version": "3.7.6"
  }
 },
 "nbformat": 4,
 "nbformat_minor": 4
}
